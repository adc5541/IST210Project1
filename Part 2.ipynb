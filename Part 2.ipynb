{
 "cells": [
  {
   "attachments": {},
   "cell_type": "markdown",
   "metadata": {},
   "source": [
    "Part2\n",
    "<br>\n",
    "A soccer team trying to keeping track of what games they can increase their prices for. The goal of this business is to maximize profits from ticket sales throughout the season. For this business, the first table would be static and their Game Number and who their opponent for the game. The second table would include the game and the date of the game. The third table would include all their opponents records. The fourth table would be static including the opponents and whether they are a known rival. The fifth table would be have the date of games and projected weather for the game. The sixth table would include the time of day for each game. A seventh table would be dynamic for each game the table would have the current price of tickets are being sold for and how many tickets are remaining to be sold. \n",
    "The first table is connected to the second, sixth and seventh table through the game number. The first table also relates to the third and the fourth table through the opponent. Finally the second table relates to the fifth table through the date of the game. For table 1, every game has an opponent. For table 2, every game has a date it is to be played on. For table 3, every opponent has a record containing the number of games they have won, loss, and tied. For table 4, each opponent would be designated as a rival or not based on team tradition and previous seasons. For table 5 every date would have a projected weather forecast. For table six every game has a time the game is played. For table 7, each game has a certain number of tickets left this updates as tickets are sold.\n",
    "<br>\n",
    "Constraints:  A constraint for the number of tickets left being sold would be 10,000 as the stadium only has 10,000 seats. A constraint for known rival in table 4 would be it only allows “rival” and “non-rival” as these are the only two options for this entity. Another constraint would be for time of day. This would only allow “morning”, “afternoon”, and “night”.\n",
    "<br>\n",
    "To determine the appropriate price to be charging for tickets the business will use an equation based on the different information derived from the tables.\n",
    "<br>\n",
    "Price of ticket = 15 + 50(Known Rival) + 30(Opponent win%) + 25(weather) + 40(time of day)+ 40((10- # thousands of tickets remaining)/100)\n",
    "<br>\n",
    "Explanation of equation: 15 is the minimum price the soccer team can charge and not lose money. Rivalries are the most important factor for determining the prices of tickets. If the opponent is a rival “Known Rival” is assigned a value of 1, otherwise 0. “Opponent win%” is calculated by taking the number of wins and dividing by the total number of games played(wins+losses+ties). The higher the win percentage the more you can charge for tickets. Weather is assigned a value of 0, .5, or 1 based on if the weather is bad, fair or good. The better the weather the more the team charges for a ticket. Time of day is assigned a value 0, .5, or 1 whether the game time is morning, afternoon or night. Night games are the most popular so you can charge more for these tickets. The final part of the equation is based off how many tickets are left. \n",
    "<br>\n",
    "Using equation:\n",
    "<br>\n",
    "Info from table\n",
    "<br>\n",
    "Known Rival: Rival\n",
    "<br>\n",
    "Opponents Record: 15-10-5\n",
    "<br>\n",
    "Weather: sunny, and 75 (Good)\n",
    "<br>\n",
    "Time of day: Morning\n",
    "<br>\n",
    "Tickets Remaining: 1000\n",
    "<br>\n",
    "Price of ticket = 15 + 50(1) + 30(15/(15+10+5)) + 25(1) + 40(0) + 40((10-1)/10)\n",
    "<br>\n",
    "Price of ticket = 15+50+15+25+0+36 = 141\n",
    "<br>\n",
    "This game ticket would be sold for $141\n",
    "<br>\n",
    "\n",
    "![Annotation%202019-09-24%20232727.png](images/Annotation%202019-09-24%20232727.png)"
   ]
  },
  {
   "cell_type": "code",
   "execution_count": null,
   "metadata": {},
   "outputs": [],
   "source": []
  }
 ],
 "metadata": {
  "kernelspec": {
   "display_name": "Python 3",
   "language": "python",
   "name": "python3"
  },
  "language_info": {
   "codemirror_mode": {
    "name": "ipython",
    "version": 3
   },
   "file_extension": ".py",
   "mimetype": "text/x-python",
   "name": "python",
   "nbconvert_exporter": "python",
   "pygments_lexer": "ipython3",
   "version": "3.7.3"
  }
 },
 "nbformat": 4,
 "nbformat_minor": 2
}
