{
 "cells": [
  {
   "attachments": {},
   "cell_type": "markdown",
   "metadata": {},
   "source": [
    "Idea 1: A soccer team trying to keeping track of what games they can increase their prices for. The goal of this business is to maximize profits from ticket sales throughout the season. For this business, the first table would be static and their Game Number and who their opponent for the game. The second table would include the game and the date of the game. The third table would include all their opponents records. The fourth table would be static including the opponents and whether they are a known rival. A fifth table would be dynamic for how many tickets are remaining to be sold for each game.\n",
    "The first table is connected to the second and fifth table through the game number. The first table also relates to the third and the fourth table through the opponent.\n",
    "<br>\n",
    "Constraints:  A constraint for the number of tickets left being sold would be 10,000 as the stadium only has 10,000 seats.A constraint for known rival in table 4 would be it only allows “rival” and “non-rival” as these are the only two options for this entity.\n",
    "<br>\n",
    "The soccer team will combine the information of the data to determine what the price of a ticket should be. Rivalries, opponent having a higher record, themselves performing well and a low number of tickets remaining should all lead to higher ticket prices.If the game is rivalry game against an opponent with a good record, they should increase their prices for that game compared to if the game is early in the season and against a bottom ranked team prices should be decreased so they can sell more tickets.\n",
    "<br>\n",
    "\n",
    "![Annotation%202019-09-24%20232331.png](images/Annotation%202019-09-24%20232331.png) \n",
    "<br>\n",
    "Idea 2:\n",
    "<br>\n",
    "An owner of a local bubble tea shop wanted to build up a database for his business in order to keep track of their internal and external items. What is unique about this bubble tea shop was that it was funded by a Penn State student and he has a pretty tight budget. So the owner(student)  wanted to make use of the database to have an efficient model and make maximum profits for his business. The goal for having this database is to know which specific kitchen material is consumed the most, and which drink brings the most profit to the bubble tea shop. By knowing this, the owner can assign the budget in a more efficient way. Here’s a typical business interaction in a day: The customers come to the cashier and order their drinks. The cashier would greet them properly, have them pay for the drink, and give them a receipt, with a number listed. The staff in the back kitchen will be making the drink. Shortly, the customers will be called to grab their drinks by the counter once it is finished. This database will contain 5 tables. The first table’s entity is Menu, and its attributes would be Name of the Drink and the Prize. The second table would have Staff as the entity. Its attributes are staff members’ names and their work shifts. The third table has Fix Cost as the entity, with the name item, and fix cost per day as the attributes. The fourth table would have Internal Items as the entity. The attributes include name of the drink, fruit material needed for each drink, and the cost of making each drink. The fifth and the last table is a dynamic one, called Check. It will keep recording each check that is made from the consumers. Its attributes would be, Date, time, name of the order, order number, server’s name and the total. \n",
    "<br>\n",
    "Relations: Table 2 connects to Table 5 by “server name”. Also, The attribute “Name of order/drink” from table 1, table 4 and table 5 connects to each other. \n",
    "<br>\n",
    "Constraint: One constraint for the attribute is that the owner has to make sure the total cost is always less than the total revenue. Also, no more than 3 staff members should be on the same shift, due to the tight budget. Since the bubble tea shop is based in a college town, the price should also be more friendly to students. Thus, while the price for each drink is higher than the cost, it should never exceed $7.\n",
    "\n",
    "\n",
    "\n",
    "![Annotation%202019-09-24%20232500.png](images/Annotation%202019-09-24%20232500.png)\n",
    "\n",
    "\n",
    "\n",
    "<br>\n",
    "Idea 3:\n",
    "<br>\n",
    "A local furniture store sells different company branded furniture. Each employee or seller is assigned to one brand and is in charge of selling the furniture. More than one seller can be in charge of selling a brand. As a local store, the primary customers are newly married couples who have just moved to the area. The main goal of keeping a database is to keep track of the basic inventory and which furniture and which brand provides the store with the most profit. The first table would include the list of items and prices. The furniture would be identified as the entity. The name of the furniture and the price of each furniture would be the attribute. The second table would contain the location of each furniture. The store itself would be entity. The name of the furniture and the location of the furniture in the store would be the attribute. A constraint for this table’s attributes would be that the administration office, the staff recreation rooms and the toilets can not be identified as the location of the furniture. The third table would list the company or the brand of the furniture. The brand would be the entity. The name of the furniture and the brand of each furniture would be the attribute. The fourth table would list the employees and which brand furniture they are in charge of selling. The employee would be the entity and the attributes would be the names of each employee or seller and the brand of the furniture they are selling. No more than 4 employees or sellers can be in charge of a brand and this would be a constraint. The fifth table would provide real time data about the customers’ purchases. The entity would be sales. The attribute would be the items’ names, the number of furniture sold for each item and brand of the item and the name of the seller. This final table would tell the store which item from which brand was the most popular and who the seller was for the item. \n",
    "\n",
    "![2.png](images/2.png)\n",
    "\n",
    "\n",
    "\n"
   ]
  },
  {
   "cell_type": "code",
   "execution_count": null,
   "metadata": {},
   "outputs": [],
   "source": []
  }
 ],
 "metadata": {
  "kernelspec": {
   "display_name": "Python 3",
   "language": "python",
   "name": "python3"
  },
  "language_info": {
   "codemirror_mode": {
    "name": "ipython",
    "version": 3
   },
   "file_extension": ".py",
   "mimetype": "text/x-python",
   "name": "python",
   "nbconvert_exporter": "python",
   "pygments_lexer": "ipython3",
   "version": "3.7.3"
  }
 },
 "nbformat": 4,
 "nbformat_minor": 2
}
